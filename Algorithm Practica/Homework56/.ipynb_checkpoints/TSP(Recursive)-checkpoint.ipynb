{
 "cells": [
  {
   "cell_type": "code",
   "execution_count": 1,
   "metadata": {},
   "outputs": [],
   "source": [
    "import numpy as np\n",
    "import pandas as pd\n",
    "import time"
   ]
  },
  {
   "cell_type": "code",
   "execution_count": 2,
   "metadata": {},
   "outputs": [],
   "source": [
    "def backtrackTSP(t):\n",
    "    global cw,bestw,count\n",
    "    count+=1\n",
    "    if t == n-1 :\n",
    "        if adj[x[n-2]][x[n-1]] != 99999 and adj[x[n-1]][x[0]] !=99999:\n",
    "            if (cw + adj[x[n-2]][x[n-1]] + adj[x[n-1]][x[0]])<bestw :\n",
    "                bestw=cw + adj[x[n-2]][x[n-1]] + adj[x[n-1]][x[0]]\n",
    "                for i in range(n):\n",
    "                    bestx[i] = x[i]           \n",
    "    else:\n",
    "        for i in range(t,n):\n",
    "            if adj[x[t-1]][x[i]] != 99999 and cw + adj[x[t-1]][x[i]] < bestw:\n",
    "                temp = x[t]\n",
    "                x[t] = x[i]\n",
    "                x[i] = temp\n",
    "                cw += adj[x[t-1]][x[t]]\n",
    "                backtrackTSP(t+1)\n",
    "                cw -= adj[x[t-1]][x[t]]\n",
    "                temp = x[t]\n",
    "                x[t] = x[i]\n",
    "                x[i] = temp      "
   ]
  },
  {
   "cell_type": "code",
   "execution_count": 3,
   "metadata": {},
   "outputs": [
    {
     "name": "stdout",
     "output_type": "stream",
     "text": [
      "运行时间: 1.0850460529327393\n",
      "最佳路径: [12, 4, 2, 9, 0, 8, 7, 13, 5, 3, 11, 6, 14, 1, 10]\n",
      "最短距离: 5506.880323800485\n",
      "搜索节点个数: 254516\n"
     ]
    }
   ],
   "source": [
    "count = 0\n",
    "data = pd.read_csv('TSP1.csv')\n",
    "adj = np.array(data.iloc[1:16,2:],dtype=float)\n",
    "n = 15\n",
    "x = [i for i in range(n)]\n",
    "x[0] = 12\n",
    "x[12] = 0\n",
    "bestx = [0]*n\n",
    "cw = 0\n",
    "bestw = 100000000\n",
    "start = time.time()\n",
    "backtrackTSP(1)\n",
    "print('运行时间:',time.time()-start)\n",
    "print('最佳路径:',bestx)\n",
    "print('最短距离:',bestw)\n",
    "print('搜索节点个数:',count)"
   ]
  },
  {
   "cell_type": "code",
   "execution_count": 4,
   "metadata": {},
   "outputs": [
    {
     "name": "stdout",
     "output_type": "stream",
     "text": [
      "运行时间: 370.92954111099243\n",
      "最佳路径: [12, 9, 11, 18, 7, 0, 5, 15, 16, 8, 19, 3, 14, 17, 6, 4, 13, 2, 10, 1]\n",
      "最短距离: 6987.508956446308\n",
      "搜索节点个数: 79366832\n"
     ]
    }
   ],
   "source": [
    "count = 0\n",
    "data = pd.read_csv('TSP2.csv')\n",
    "adj = np.array(data.iloc[1:21,2:],dtype=float)\n",
    "n = 20\n",
    "x = [i for i in range(n)]\n",
    "x[0] = 12\n",
    "x[12] = 0\n",
    "bestx = [0]*n\n",
    "cw = 0\n",
    "bestw = 100000000\n",
    "start = time.time()\n",
    "backtrackTSP(1)\n",
    "print('运行时间:',time.time()-start)\n",
    "print('最佳路径:',bestx)\n",
    "print('最短距离:',bestw)\n",
    "print('搜索节点个数:',count)"
   ]
  },
  {
   "cell_type": "code",
   "execution_count": 4,
   "metadata": {},
   "outputs": [
    {
     "name": "stdout",
     "output_type": "stream",
     "text": [
      "运行时间: 1798.528599023819\n",
      "最佳路径: [12, 2, 15, 6, 8, 19, 16, 4, 21, 10, 18, 7, 17, 5, 3, 0, 9, 20, 13, 11, 14, 1]\n",
      "最短距离: 7690.801742543913\n",
      "搜索节点个数: 359595054\n"
     ]
    }
   ],
   "source": [
    "count = 0\n",
    "data = pd.read_csv('TSP3.csv')\n",
    "adj = np.array(data.iloc[1:23,2:],dtype=float)\n",
    "n = 22\n",
    "x = [i for i in range(n)]\n",
    "x[0] = 12\n",
    "x[12] = 0\n",
    "bestx = [0]*n\n",
    "cw = 0\n",
    "bestw = 100000000\n",
    "start = time.time()\n",
    "backtrackTSP(1)\n",
    "print('运行时间:',time.time()-start)\n",
    "print('最佳路径:',bestx)\n",
    "print('最短距离:',bestw)\n",
    "print('搜索节点个数:',count)"
   ]
  },
  {
   "cell_type": "code",
   "execution_count": null,
   "metadata": {},
   "outputs": [],
   "source": []
  }
 ],
 "metadata": {
  "kernelspec": {
   "display_name": "Python 3",
   "language": "python",
   "name": "python3"
  },
  "language_info": {
   "codemirror_mode": {
    "name": "ipython",
    "version": 3
   },
   "file_extension": ".py",
   "mimetype": "text/x-python",
   "name": "python",
   "nbconvert_exporter": "python",
   "pygments_lexer": "ipython3",
   "version": "3.7.3"
  }
 },
 "nbformat": 4,
 "nbformat_minor": 2
}
